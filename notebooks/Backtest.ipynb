{
 "cells": [
  {
   "cell_type": "code",
   "execution_count": 1,
   "id": "fb7546fd-2198-4f0b-adda-b6365649da54",
   "metadata": {},
   "outputs": [
    {
     "data": {
      "text/plain": [
       "Settings(start='2015-07-01', end='2025-07-31', tickers=['TSLA', 'BND', 'SPY'], risk_free_rate=0.02, seed=42, data_raw_dir=WindowsPath('../data/raw'), data_processed_dir=WindowsPath('../data/processed'), reports_figures_dir=WindowsPath('../reports/figures'))"
      ]
     },
     "execution_count": 1,
     "metadata": {},
     "output_type": "execute_result"
    }
   ],
   "source": [
    "from pathlib import Path\n",
    "import sys, importlib, warnings\n",
    "warnings.filterwarnings(\"ignore\")\n",
    "\n",
    "# locate repo root\n",
    "cwd = Path().resolve()\n",
    "root = None\n",
    "for p in [cwd, *cwd.parents]:\n",
    "    if (p/\"src\").is_dir():\n",
    "        root = p; break\n",
    "assert root\n",
    "if str(root) not in sys.path:\n",
    "    sys.path.insert(0, str(root))\n",
    "\n",
    "import pandas as pd\n",
    "import numpy as np\n",
    "\n",
    "import src.config, src.backtest.backtester, src.utils.plotting\n",
    "importlib.reload(src.config); importlib.reload(src.backtest.backtester); importlib.reload(src.utils.plotting)\n",
    "\n",
    "from src.config import Settings\n",
    "from src.backtest.backtester import Backtester, BacktestConfig\n",
    "from src.utils.plotting import Plotter\n",
    "\n",
    "cfg = Settings()\n",
    "cfg\n",
    "\n",
    "\n"
   ]
  },
  {
   "cell_type": "code",
   "execution_count": 2,
   "id": "c393cf91-d539-4996-91d1-945c0fc2978f",
   "metadata": {},
   "outputs": [
    {
     "data": {
      "text/plain": [
       "{'TSLA': 0.0, 'BND': 0.0, 'SPY': 1.0}"
      ]
     },
     "execution_count": 2,
     "metadata": {},
     "output_type": "execute_result"
    }
   ],
   "source": [
    "# Load processed features (Task 1)\n",
    "features = pd.read_csv(cfg.data_processed_dir / \"merged_features.csv\", parse_dates=[\"Date\"]).set_index(\"Date\")\n",
    "rets = features[[\"TSLA_ret\",\"BND_ret\",\"SPY_ret\"]].rename(columns={\"TSLA_ret\":\"TSLA\",\"BND_ret\":\"BND\",\"SPY_ret\":\"SPY\"}).dropna()\n",
    "\n",
    "# Choose strategy weights from Task 4 (pick Max Sharpe by default)\n",
    "weights_path = cfg.reports_figures_dir.parent / \"interim\" / \"weights_max_sharpe.csv\"\n",
    "if not weights_path.exists():\n",
    "    # fallback to Min Vol if Max Sharpe not generated\n",
    "    weights_path = cfg.reports_figures_dir.parent / \"interim\" / \"weights_min_vol.csv\"\n",
    "\n",
    "w = pd.read_csv(weights_path, header=None, index_col=0).squeeze()\n",
    "strategy_weights = {k: float(v) for k, v in w.items() if k in [\"TSLA\",\"BND\",\"SPY\"]}\n",
    "\n",
    "strategy_weights\n"
   ]
  },
  {
   "cell_type": "code",
   "execution_count": 3,
   "id": "1672c3f6-bab2-4e66-9307-7ab5be33ca20",
   "metadata": {},
   "outputs": [
    {
     "data": {
      "text/html": [
       "<div>\n",
       "<style scoped>\n",
       "    .dataframe tbody tr th:only-of-type {\n",
       "        vertical-align: middle;\n",
       "    }\n",
       "\n",
       "    .dataframe tbody tr th {\n",
       "        vertical-align: top;\n",
       "    }\n",
       "\n",
       "    .dataframe thead th {\n",
       "        text-align: right;\n",
       "    }\n",
       "</style>\n",
       "<table border=\"1\" class=\"dataframe\">\n",
       "  <thead>\n",
       "    <tr style=\"text-align: right;\">\n",
       "      <th></th>\n",
       "      <th>annual_ret</th>\n",
       "      <th>annual_vol</th>\n",
       "      <th>sharpe</th>\n",
       "    </tr>\n",
       "  </thead>\n",
       "  <tbody>\n",
       "    <tr>\n",
       "      <th>strategy</th>\n",
       "      <td>0.209436</td>\n",
       "      <td>0.202015</td>\n",
       "      <td>0.93773</td>\n",
       "    </tr>\n",
       "    <tr>\n",
       "      <th>benchmark</th>\n",
       "      <td>0.131067</td>\n",
       "      <td>0.123108</td>\n",
       "      <td>0.90219</td>\n",
       "    </tr>\n",
       "  </tbody>\n",
       "</table>\n",
       "</div>"
      ],
      "text/plain": [
       "           annual_ret  annual_vol   sharpe\n",
       "strategy     0.209436    0.202015  0.93773\n",
       "benchmark    0.131067    0.123108  0.90219"
      ]
     },
     "metadata": {},
     "output_type": "display_data"
    },
    {
     "data": {
      "text/html": [
       "<div>\n",
       "<style scoped>\n",
       "    .dataframe tbody tr th:only-of-type {\n",
       "        vertical-align: middle;\n",
       "    }\n",
       "\n",
       "    .dataframe tbody tr th {\n",
       "        vertical-align: top;\n",
       "    }\n",
       "\n",
       "    .dataframe thead th {\n",
       "        text-align: right;\n",
       "    }\n",
       "</style>\n",
       "<table border=\"1\" class=\"dataframe\">\n",
       "  <thead>\n",
       "    <tr style=\"text-align: right;\">\n",
       "      <th></th>\n",
       "      <th>strategy</th>\n",
       "      <th>benchmark</th>\n",
       "    </tr>\n",
       "    <tr>\n",
       "      <th>Date</th>\n",
       "      <th></th>\n",
       "      <th></th>\n",
       "    </tr>\n",
       "  </thead>\n",
       "  <tbody>\n",
       "    <tr>\n",
       "      <th>2025-07-24</th>\n",
       "      <td>1.182891</td>\n",
       "      <td>1.119600</td>\n",
       "    </tr>\n",
       "    <tr>\n",
       "      <th>2025-07-25</th>\n",
       "      <td>1.187888</td>\n",
       "      <td>1.123600</td>\n",
       "    </tr>\n",
       "    <tr>\n",
       "      <th>2025-07-28</th>\n",
       "      <td>1.187590</td>\n",
       "      <td>1.122740</td>\n",
       "    </tr>\n",
       "    <tr>\n",
       "      <th>2025-07-29</th>\n",
       "      <td>1.184457</td>\n",
       "      <td>1.123036</td>\n",
       "    </tr>\n",
       "    <tr>\n",
       "      <th>2025-07-30</th>\n",
       "      <td>1.182966</td>\n",
       "      <td>1.121066</td>\n",
       "    </tr>\n",
       "  </tbody>\n",
       "</table>\n",
       "</div>"
      ],
      "text/plain": [
       "            strategy  benchmark\n",
       "Date                           \n",
       "2025-07-24  1.182891   1.119600\n",
       "2025-07-25  1.187888   1.123600\n",
       "2025-07-28  1.187590   1.122740\n",
       "2025-07-29  1.184457   1.123036\n",
       "2025-07-30  1.182966   1.121066"
      ]
     },
     "execution_count": 3,
     "metadata": {},
     "output_type": "execute_result"
    }
   ],
   "source": [
    "cfg_bt = BacktestConfig(\n",
    "    start=\"2024-08-01\",\n",
    "    end=\"2025-07-31\",\n",
    "    rebalance=\"none\",      # or \"monthly\"\n",
    "    rf_annual=cfg.risk_free_rate\n",
    ")\n",
    "\n",
    "bt = Backtester(rets, cfg_bt)\n",
    "res = bt.run(strategy_weights=strategy_weights, benchmark_weights={\"SPY\":0.60,\"BND\":0.40})\n",
    "\n",
    "display(res.stats)\n",
    "res.cumrets.tail()\n"
   ]
  },
  {
   "cell_type": "code",
   "execution_count": 4,
   "id": "273476c2-18fb-4d5d-9588-947a7bdc680d",
   "metadata": {},
   "outputs": [
    {
     "data": {
      "text/plain": [
       "(WindowsPath('../reports/figures/backtest_cumreturns.png'),\n",
       " WindowsPath('../reports/interim/backtest_stats.csv'))"
      ]
     },
     "execution_count": 4,
     "metadata": {},
     "output_type": "execute_result"
    }
   ],
   "source": [
    "pl = Plotter(cfg.reports_figures_dir)\n",
    "\n",
    "fig_path = pl.cumulative_returns(\n",
    "    cum_df=res.cumrets,\n",
    "    title=\"Backtest — Strategy vs 60/40 SPY/BND (Aug 2024 to Jul 2025)\",\n",
    "    fname=\"backtest_cumreturns.png\"\n",
    ")\n",
    "\n",
    "out_dir = cfg.reports_figures_dir.parent / \"interim\"\n",
    "out_dir.mkdir(parents=True, exist_ok=True)\n",
    "\n",
    "res.daily.to_csv(out_dir / \"backtest_daily_returns.csv\")\n",
    "res.cumrets.to_csv(out_dir / \"backtest_cumulative_curves.csv\")\n",
    "res.stats.to_csv(out_dir / \"backtest_stats.csv\")\n",
    "\n",
    "fig_path, out_dir / \"backtest_stats.csv\"\n"
   ]
  },
  {
   "cell_type": "code",
   "execution_count": 5,
   "id": "354fc0ab-6d12-4fbc-af78-b0066ea09444",
   "metadata": {},
   "outputs": [
    {
     "name": "stdout",
     "output_type": "stream",
     "text": [
      "Strategy:   μ=20.944%, σ=20.202%, Sharpe=0.94\n",
      "Benchmark:  μ=13.107%, σ=12.311%, Sharpe=0.90\n",
      "Conclusion: Outperformed the benchmark on Sharpe.\n"
     ]
    }
   ],
   "source": [
    "stats = res.stats.copy()\n",
    "msg = (\n",
    "    f\"Strategy:   μ={stats.loc['strategy','annual_ret']:.3%}, \"\n",
    "    f\"σ={stats.loc['strategy','annual_vol']:.3%}, \"\n",
    "    f\"Sharpe={stats.loc['strategy','sharpe']:.2f}\\n\"\n",
    "    f\"Benchmark:  μ={stats.loc['benchmark','annual_ret']:.3%}, \"\n",
    "    f\"σ={stats.loc['benchmark','annual_vol']:.3%}, \"\n",
    "    f\"Sharpe={stats.loc['benchmark','sharpe']:.2f}\\n\"\n",
    "    f\"Conclusion: {'Outperformed' if stats.loc['strategy','sharpe'] > stats.loc['benchmark','sharpe'] else 'Underperformed'} the benchmark on Sharpe.\"\n",
    ")\n",
    "print(msg)\n"
   ]
  },
  {
   "cell_type": "code",
   "execution_count": null,
   "id": "d3f2b942-7bd2-41c9-a529-37f6761c793e",
   "metadata": {},
   "outputs": [],
   "source": []
  }
 ],
 "metadata": {
  "kernelspec": {
   "display_name": "Python 3 (ipykernel)",
   "language": "python",
   "name": "python3"
  },
  "language_info": {
   "codemirror_mode": {
    "name": "ipython",
    "version": 3
   },
   "file_extension": ".py",
   "mimetype": "text/x-python",
   "name": "python",
   "nbconvert_exporter": "python",
   "pygments_lexer": "ipython3",
   "version": "3.13.0"
  }
 },
 "nbformat": 4,
 "nbformat_minor": 5
}
