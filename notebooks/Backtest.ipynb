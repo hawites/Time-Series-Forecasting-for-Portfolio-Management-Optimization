{
 "cells": [
  {
   "cell_type": "code",
   "execution_count": 1,
   "id": "fb7546fd-2198-4f0b-adda-b6365649da54",
   "metadata": {},
   "outputs": [
    {
     "data": {
      "text/plain": [
       "Settings(start='2015-07-01', end='2025-07-31', tickers=['TSLA', 'BND', 'SPY'], risk_free_rate=0.02, seed=42, data_raw_dir=WindowsPath('../data/raw'), data_processed_dir=WindowsPath('../data/processed'), reports_figures_dir=WindowsPath('../reports/figures'))"
      ]
     },
     "execution_count": 1,
     "metadata": {},
     "output_type": "execute_result"
    }
   ],
   "source": [
    "from pathlib import Path\n",
    "import sys, importlib, warnings\n",
    "warnings.filterwarnings(\"ignore\")\n",
    "\n",
    "# locate repo root\n",
    "cwd = Path().resolve()\n",
    "root = None\n",
    "for p in [cwd, *cwd.parents]:\n",
    "    if (p/\"src\").is_dir():\n",
    "        root = p; break\n",
    "assert root\n",
    "if str(root) not in sys.path:\n",
    "    sys.path.insert(0, str(root))\n",
    "\n",
    "import pandas as pd\n",
    "import numpy as np\n",
    "\n",
    "import src.config, src.backtest.backtester, src.utils.plotting\n",
    "importlib.reload(src.config); importlib.reload(src.backtest.backtester); importlib.reload(src.utils.plotting)\n",
    "\n",
    "from src.config import Settings\n",
    "from src.backtest.backtester import Backtester, BacktestConfig\n",
    "from src.utils.plotting import Plotter\n",
    "\n",
    "cfg = Settings()\n",
    "cfg\n",
    "\n",
    "\n"
   ]
  },
  {
   "cell_type": "code",
   "execution_count": 2,
   "id": "c393cf91-d539-4996-91d1-945c0fc2978f",
   "metadata": {},
   "outputs": [
    {
     "data": {
      "text/plain": [
       "{'TSLA': 0.0, 'BND': 0.0, 'SPY': 1.0}"
      ]
     },
     "execution_count": 2,
     "metadata": {},
     "output_type": "execute_result"
    }
   ],
   "source": [
    "# Load processed features (Task 1)\n",
    "features = pd.read_csv(cfg.data_processed_dir / \"merged_features.csv\", parse_dates=[\"Date\"]).set_index(\"Date\")\n",
    "rets = features[[\"TSLA_ret\",\"BND_ret\",\"SPY_ret\"]].rename(columns={\"TSLA_ret\":\"TSLA\",\"BND_ret\":\"BND\",\"SPY_ret\":\"SPY\"}).dropna()\n",
    "\n",
    "# Choose strategy weights from Task 4 (pick Max Sharpe by default)\n",
    "weights_path = cfg.reports_figures_dir.parent / \"interim\" / \"weights_max_sharpe.csv\"\n",
    "if not weights_path.exists():\n",
    "    # fallback to Min Vol if Max Sharpe not generated\n",
    "    weights_path = cfg.reports_figures_dir.parent / \"interim\" / \"weights_min_vol.csv\"\n",
    "\n",
    "w = pd.read_csv(weights_path, header=None, index_col=0).squeeze()\n",
    "strategy_weights = {k: float(v) for k, v in w.items() if k in [\"TSLA\",\"BND\",\"SPY\"]}\n",
    "\n",
    "strategy_weights\n"
   ]
  },
  {
   "cell_type": "code",
   "execution_count": null,
   "id": "1672c3f6-bab2-4e66-9307-7ab5be33ca20",
   "metadata": {},
   "outputs": [],
   "source": [
    "cfg_bt = BacktestConfig(\n",
    "    start=\"2024-08-01\",\n",
    "    end=\"2025-07-31\",\n",
    "    rebalance=\"none\",      # or \"monthly\"\n",
    "    rf_annual=cfg.risk_free_rate\n",
    ")\n",
    "\n",
    "bt = Backtester(rets, cfg_bt)\n",
    "res = bt.run(strategy_weights=strategy_weights, benchmark_weights={\"SPY\":0.60,\"BND\":0.40})\n",
    "\n",
    "display(res.stats)\n",
    "res.cumrets.tail()\n"
   ]
  }
 ],
 "metadata": {
  "kernelspec": {
   "display_name": "Python 3 (ipykernel)",
   "language": "python",
   "name": "python3"
  },
  "language_info": {
   "codemirror_mode": {
    "name": "ipython",
    "version": 3
   },
   "file_extension": ".py",
   "mimetype": "text/x-python",
   "name": "python",
   "nbconvert_exporter": "python",
   "pygments_lexer": "ipython3",
   "version": "3.13.0"
  }
 },
 "nbformat": 4,
 "nbformat_minor": 5
}
