{
 "cells": [
  {
   "cell_type": "code",
   "execution_count": 1,
   "id": "e18b31d0-2b37-4373-be66-646266004de3",
   "metadata": {},
   "outputs": [
    {
     "data": {
      "text/plain": [
       "(TSLA   -0.001124\n",
       " BND     0.019599\n",
       " SPY     0.144844\n",
       " dtype: float64,\n",
       "           TSLA       BND       SPY\n",
       " TSLA  0.350331  0.001861  0.052950\n",
       " BND   0.001861  0.003016  0.001150\n",
       " SPY   0.052950  0.001150  0.033272)"
      ]
     },
     "execution_count": 1,
     "metadata": {},
     "output_type": "execute_result"
    }
   ],
   "source": [
    "from pathlib import Path\n",
    "import sys, importlib, warnings\n",
    "warnings.filterwarnings(\"ignore\")\n",
    "\n",
    "# repo root\n",
    "cwd = Path().resolve()\n",
    "root = None\n",
    "for p in [cwd, *cwd.parents]:\n",
    "    if (p/\"src\").is_dir():\n",
    "        root = p; break\n",
    "assert root\n",
    "if str(root) not in sys.path:\n",
    "    sys.path.insert(0, str(root))\n",
    "\n",
    "import pandas as pd\n",
    "import numpy as np\n",
    "\n",
    "import src.config, src.portfolio.optimizer, src.utils.plotting\n",
    "importlib.reload(src.config); importlib.reload(src.portfolio.optimizer); importlib.reload(src.utils.plotting)\n",
    "\n",
    "from src.config import Settings\n",
    "from src.portfolio.optimizer import PortfolioOptimizer, PortfolioInputs\n",
    "from src.utils.plotting import Plotter\n",
    "\n",
    "cfg = Settings()\n",
    "cfg\n",
    "\n",
    "# Load processed features\n",
    "features = pd.read_csv(cfg.data_processed_dir / \"merged_features.csv\", parse_dates=[\"Date\"]).set_index(\"Date\")\n",
    "\n",
    "tickers = [\"TSLA\",\"BND\",\"SPY\"]\n",
    "returns = features[[f\"{t}_ret\" for t in tickers]].dropna().copy()\n",
    "returns.columns = tickers\n",
    "\n",
    "# TSLA expected return from forecast (12m), fallback to historical mean if file missing\n",
    "tsla_forecast_12m = (cfg.reports_figures_dir.parent / \"interim\" / \"tsla_forecast_12m.csv\")\n",
    "tsla_forecast_12m = str(tsla_forecast_12m) if Path(tsla_forecast_12m).exists() else None\n",
    "\n",
    "opt = PortfolioOptimizer(rf_rate=cfg.risk_free_rate)\n",
    "exp_ann = opt.build_expected_returns(\n",
    "    returns_df=returns.rename(columns={t: f\"{t}_ret\" for t in tickers}),\n",
    "    use_tickers=tickers,\n",
    "    tsla_forecast_csv=tsla_forecast_12m,\n",
    "    tsla_mode=\"forecast_12m\"\n",
    ")\n",
    "\n",
    "# Covariance from historical daily returns (annualized)\n",
    "cov_ann = opt.build_covariance(\n",
    "    returns_df=returns.rename(columns={t: f\"{t}_ret\" for t in tickers}),\n",
    "    use_tickers=tickers\n",
    ")\n",
    "\n",
    "exp_ann, cov_ann.head()\n",
    "\n"
   ]
  },
  {
   "cell_type": "code",
   "execution_count": 2,
   "id": "6afe6b67-740c-4f89-b01c-3b20903e75d7",
   "metadata": {},
   "outputs": [
    {
     "name": "stdout",
     "output_type": "stream",
     "text": [
      "Max Sharpe weights: OrderedDict({'TSLA': 0.0, 'BND': 0.0, 'SPY': 1.0})\n",
      "Max Sharpe perf   (ret, vol, sharpe): (np.float64(0.14484446528686484), np.float64(0.18240716649610328), np.float64(0.6844274141473047))\n",
      "Min Vol   weights: OrderedDict({'TSLA': 0.0, 'BND': 0.94511, 'SPY': 0.05489})\n",
      "Min Vol   perf    (ret, vol, sharpe): (np.float64(0.026474116078194786), np.float64(0.05397824160633912), np.float64(0.11993936603956502))\n"
     ]
    }
   ],
   "source": [
    "inputs = PortfolioInputs(tickers=tickers, exp_returns_ann=exp_ann, cov_ann=cov_ann, rf_rate=cfg.risk_free_rate)\n",
    "\n",
    "frontier = opt.efficient_frontier(inputs, n_points=60)\n",
    "w_max, perf_max = opt.max_sharpe(inputs)       # (ret, vol, sharpe)\n",
    "w_min, perf_min = opt.min_volatility(inputs)\n",
    "\n",
    "print(\"Max Sharpe weights:\", w_max)\n",
    "print(\"Max Sharpe perf   (ret, vol, sharpe):\", perf_max)\n",
    "print(\"Min Vol   weights:\", w_min)\n",
    "print(\"Min Vol   perf    (ret, vol, sharpe):\", perf_min)\n"
   ]
  },
  {
   "cell_type": "code",
   "execution_count": 3,
   "id": "43b52090-9b2e-44c1-a5ca-eba6537da289",
   "metadata": {},
   "outputs": [
    {
     "data": {
      "text/plain": [
       "(WindowsPath('../reports/figures/efficient_frontier.png'),\n",
       " WindowsPath('../reports/interim/weights_max_sharpe.csv'),\n",
       " WindowsPath('../reports/interim/weights_min_vol.csv'),\n",
       " WindowsPath('../reports/interim/portfolio_stats.csv'))"
      ]
     },
     "execution_count": 3,
     "metadata": {},
     "output_type": "execute_result"
    }
   ],
   "source": [
    "pl = Plotter(cfg.reports_figures_dir)\n",
    "\n",
    "frontier_fig = pl.efficient_frontier(\n",
    "    frontier_df=frontier,\n",
    "    maxpt=(perf_max[1], perf_max[0]),\n",
    "    minvolpt=(perf_min[1], perf_min[0]),\n",
    "    title=\"Efficient Frontier (TSLA-BND-SPY)\",\n",
    "    fname=\"efficient_frontier.png\"\n",
    ")\n",
    "\n",
    "# Save weights & stats\n",
    "out_dir = cfg.reports_figures_dir.parent / \"interim\"\n",
    "out_dir.mkdir(parents=True, exist_ok=True)\n",
    "\n",
    "pd.Series(w_max).to_csv(out_dir / \"weights_max_sharpe.csv\")\n",
    "pd.Series(w_min).to_csv(out_dir / \"weights_min_vol.csv\")\n",
    "\n",
    "stats_df = pd.DataFrame(\n",
    "    {\"portfolio\":[\"max_sharpe\",\"min_vol\"],\n",
    "     \"exp_return\":[perf_max[0], perf_min[0]],\n",
    "     \"volatility\":[perf_max[1], perf_min[1]],\n",
    "     \"sharpe\":[perf_max[2], perf_min[2]]}\n",
    ")\n",
    "stats_df.to_csv(out_dir / \"portfolio_stats.csv\", index=False)\n",
    "\n",
    "frontier_fig, out_dir / \"weights_max_sharpe.csv\", out_dir / \"weights_min_vol.csv\", out_dir / \"portfolio_stats.csv\"\n"
   ]
  },
  {
   "cell_type": "code",
   "execution_count": 4,
   "id": "ff8e10ae-8f00-4b38-9380-b402d926e5b6",
   "metadata": {},
   "outputs": [
    {
     "name": "stdout",
     "output_type": "stream",
     "text": [
      "Recommended: max_sharpe\n",
      "Weights:\n",
      " 0\n",
      "NaN     0.0\n",
      "TSLA    0.0\n",
      "BND     0.0\n",
      "SPY     1.0\n",
      "Name: 1, dtype: float64\n",
      "Stats:\n",
      "     portfolio  exp_return  volatility    sharpe\n",
      "0  max_sharpe    0.144844    0.182407  0.684427\n"
     ]
    }
   ],
   "source": [
    "# Example policy: recommend Max Sharpe unless volatility exceeds SPY's annualized vol by a threshold\n",
    "spy_ann_vol = returns[\"SPY\"].std() * np.sqrt(252)\n",
    "choice = \"max_sharpe\"\n",
    "if perf_max[1] > 1.5 * spy_ann_vol:\n",
    "    choice = \"min_vol\"\n",
    "\n",
    "print(\"Recommended:\", choice)\n",
    "print(\"Weights:\\n\", pd.read_csv(out_dir / f\"weights_{choice}.csv\", header=None, index_col=0).squeeze())\n",
    "print(\"Stats:\\n\", stats_df.loc[stats_df[\"portfolio\"] == choice])\n"
   ]
  },
  {
   "cell_type": "code",
   "execution_count": null,
   "id": "ca883a78-92b7-4ab7-9a71-0e70fe053c24",
   "metadata": {},
   "outputs": [],
   "source": []
  }
 ],
 "metadata": {
  "kernelspec": {
   "display_name": "Python 3 (ipykernel)",
   "language": "python",
   "name": "python3"
  },
  "language_info": {
   "codemirror_mode": {
    "name": "ipython",
    "version": 3
   },
   "file_extension": ".py",
   "mimetype": "text/x-python",
   "name": "python",
   "nbconvert_exporter": "python",
   "pygments_lexer": "ipython3",
   "version": "3.13.0"
  }
 },
 "nbformat": 4,
 "nbformat_minor": 5
}
