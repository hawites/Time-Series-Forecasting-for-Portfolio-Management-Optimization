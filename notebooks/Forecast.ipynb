{
 "cells": [
  {
   "cell_type": "code",
   "execution_count": 1,
   "id": "7b68c736-74b0-4f91-b04c-4710a55d3974",
   "metadata": {},
   "outputs": [
    {
     "data": {
      "text/plain": [
       "Settings(start='2015-07-01', end='2025-07-31', tickers=['TSLA', 'BND', 'SPY'], risk_free_rate=0.02, seed=42, data_raw_dir=WindowsPath('../data/raw'), data_processed_dir=WindowsPath('../data/processed'), reports_figures_dir=WindowsPath('../reports/figures'))"
      ]
     },
     "execution_count": 1,
     "metadata": {},
     "output_type": "execute_result"
    }
   ],
   "source": [
    "from pathlib import Path\n",
    "import sys, importlib, warnings\n",
    "warnings.filterwarnings(\"ignore\")\n",
    "from statsmodels.tools.sm_exceptions import ConvergenceWarning\n",
    "\n",
    "warnings.simplefilter(\"ignore\", ConvergenceWarning)\n",
    "warnings.filterwarnings(\"ignore\", message=\"A date index has been provided, but it has no associated frequency\")\n",
    "warnings.filterwarnings(\"ignore\", message=\"No supported index is available\")\n",
    "# find repo root\n",
    "cwd = Path().resolve()\n",
    "repo_root = None\n",
    "for p in [cwd, *cwd.parents]:\n",
    "    if (p/\"src\").is_dir():\n",
    "        repo_root = p; break\n",
    "assert repo_root, \"Cannot find repo root with 'src/'\"\n",
    "if str(repo_root) not in sys.path:\n",
    "    sys.path.insert(0, str(repo_root))\n",
    "\n",
    "import pandas as pd\n",
    "import numpy as np\n",
    "\n",
    "# project modules\n",
    "import src.config, src.forecast, src.utils.plotting\n",
    "importlib.reload(src.config); importlib.reload(src.forecast); importlib.reload(src.utils.plotting)\n",
    "\n",
    "from src.config import Settings\n",
    "from src.forecast import ForecastRequest, ARIMAForecaster\n",
    "from src.utils.plotting import Plotter\n",
    "\n",
    "cfg = Settings()\n",
    "cfg\n"
   ]
  },
  {
   "cell_type": "code",
   "execution_count": 2,
   "id": "cae02976-2a2f-4d6f-bf32-6cc9e06d0638",
   "metadata": {},
   "outputs": [
    {
     "data": {
      "text/plain": [
       "(2139, 248.47999572753903, Timestamp('2023-12-29 00:00:00'))"
      ]
     },
     "execution_count": 2,
     "metadata": {},
     "output_type": "execute_result"
    }
   ],
   "source": [
    "df = pd.read_csv(cfg.data_processed_dir / \"merged_features.csv\", parse_dates=[\"Date\"]).set_index(\"Date\")\n",
    "# We forecast TSLA_logret (stationary)\n",
    "ret = df[\"TSLA_logret\"].dropna()\n",
    "px  = df[\"TSLA\"].dropna()\n",
    "\n",
    "train_end = pd.Timestamp(\"2023-12-31\")\n",
    "ret_train = ret.loc[:train_end].dropna()\n",
    "last_train_price = float(px.loc[:train_end].iloc[-1])\n",
    "last_train_date  = px.loc[:train_end].index[-1]\n",
    "\n",
    "len(ret_train), last_train_price, last_train_date\n"
   ]
  },
  {
   "cell_type": "code",
   "execution_count": 6,
   "id": "3be26a4c-3545-4b09-847f-3917e86092af",
   "metadata": {},
   "outputs": [
    {
     "name": "stdout",
     "output_type": "stream",
     "text": [
      "Selected ARIMA order (6m): (2, 0, 2)\n"
     ]
    },
    {
     "data": {
      "text/plain": [
       "(WindowsPath('../reports/figures/tsla_returns_forecast_6m.png'),\n",
       " WindowsPath('../reports/figures/tsla_price_forecast_6m.png'))"
      ]
     },
     "execution_count": 6,
     "metadata": {},
     "output_type": "execute_result"
    }
   ],
   "source": [
    "from datetime import timedelta\n",
    "\n",
    "from statsmodels.tools.sm_exceptions import ConvergenceWarning\n",
    "import importlib, src.models.arima_model\n",
    "importlib.reload(src.models.arima_model)\n",
    "from src.models.arima_model import ARIMAModel\n",
    "\n",
    "warnings.simplefilter(\"ignore\", ConvergenceWarning)\n",
    "warnings.filterwarnings(\"ignore\", message=\"A date index has been provided, but it has no associated frequency\")\n",
    "warnings.filterwarnings(\"ignore\", message=\"No supported index is available\")\n",
    "\n",
    "pl = Plotter(cfg.reports_figures_dir)\n",
    "\n",
    "req6 = ForecastRequest(steps=126, alpha=0.05, trend=\"n\", grid_p=range(0,3), grid_d=range(0,1), grid_q=range(0,3))\n",
    "fore6 = ARIMAForecaster(req6).fit(ret_train)\n",
    "res6  = fore6.forecast(ret_train, price_train_last=last_train_price, last_train_date=last_train_date)\n",
    "\n",
    "print(\"Selected ARIMA order (6m):\", res6.order)\n",
    "\n",
    "# Plot returns band\n",
    "ret6_fig = pl.line_with_ci(\n",
    "    res6.ret_mean, res6.ret_lower, res6.ret_upper,\n",
    "    \"TSLA Returns Forecast — 6 months (95% CI)\",\n",
    "    \"tsla_returns_forecast_6m.png\",\n",
    "    ylabel=\"Daily return\"\n",
    ")\n",
    "\n",
    "# Plot price band\n",
    "px6_fig = pl.line_with_ci(\n",
    "    res6.px_mean, res6.px_lower, res6.px_upper,\n",
    "    \"TSLA Price Forecast — 6 months (95% CI)\",\n",
    "    \"tsla_price_forecast_6m.png\",\n",
    "    ylabel=\"Price\"\n",
    ")\n",
    "\n",
    "ret6_fig, px6_fig\n",
    "\n",
    "\n"
   ]
  },
  {
   "cell_type": "code",
   "execution_count": 5,
   "id": "bcbfa096-6f4a-462b-99ef-4bbd9cd692dd",
   "metadata": {},
   "outputs": [
    {
     "name": "stdout",
     "output_type": "stream",
     "text": [
      "Selected ARIMA order (12m): (2, 0, 2)\n"
     ]
    },
    {
     "data": {
      "text/plain": [
       "(WindowsPath('../reports/figures/tsla_returns_forecast_12m.png'),\n",
       " WindowsPath('../reports/figures/tsla_price_forecast_12m.png'))"
      ]
     },
     "execution_count": 5,
     "metadata": {},
     "output_type": "execute_result"
    }
   ],
   "source": [
    "\n",
    "\n",
    "req12 = ForecastRequest(steps=252, alpha=0.05, trend=\"n\", grid_p=range(0,3), grid_d=range(0,1), grid_q=range(0,3))\n",
    "fore12 = ARIMAForecaster(req12).fit(ret_train)\n",
    "res12  = fore12.forecast(ret_train, price_train_last=last_train_price, last_train_date=last_train_date)\n",
    "\n",
    "print(\"Selected ARIMA order (12m):\", res12.order)\n",
    "\n",
    "ret12_fig = pl.line_with_ci(\n",
    "    res12.ret_mean, res12.ret_lower, res12.ret_upper,\n",
    "    \"TSLA Returns Forecast — 12 months (95% CI)\",\n",
    "    \"tsla_returns_forecast_12m.png\",\n",
    "    ylabel=\"Daily return\"\n",
    ")\n",
    "\n",
    "px12_fig = pl.line_with_ci(\n",
    "    res12.px_mean, res12.px_lower, res12.px_upper,\n",
    "    \"TSLA Price Forecast — 12 months (95% CI)\",\n",
    "    \"tsla_price_forecast_12m.png\",\n",
    "    ylabel=\"Price\"\n",
    ")\n",
    "\n",
    "ret12_fig, px12_fig\n"
   ]
  },
  {
   "cell_type": "code",
   "execution_count": 7,
   "id": "96c13a9e-1162-494c-8017-41ee7181096a",
   "metadata": {},
   "outputs": [
    {
     "data": {
      "text/html": [
       "<div>\n",
       "<style scoped>\n",
       "    .dataframe tbody tr th:only-of-type {\n",
       "        vertical-align: middle;\n",
       "    }\n",
       "\n",
       "    .dataframe tbody tr th {\n",
       "        vertical-align: top;\n",
       "    }\n",
       "\n",
       "    .dataframe thead th {\n",
       "        text-align: right;\n",
       "    }\n",
       "</style>\n",
       "<table border=\"1\" class=\"dataframe\">\n",
       "  <thead>\n",
       "    <tr style=\"text-align: right;\">\n",
       "      <th></th>\n",
       "      <th>horizon</th>\n",
       "      <th>order</th>\n",
       "      <th>mean_ret_annualized</th>\n",
       "      <th>ret_CI_wid_avg</th>\n",
       "      <th>px_end_mean</th>\n",
       "      <th>px_end_lo</th>\n",
       "      <th>px_end_hi</th>\n",
       "    </tr>\n",
       "  </thead>\n",
       "  <tbody>\n",
       "    <tr>\n",
       "      <th>0</th>\n",
       "      <td>6m</td>\n",
       "      <td>(2, 0, 2)</td>\n",
       "      <td>-0.002249</td>\n",
       "      <td>0.141764</td>\n",
       "      <td>248.198215</td>\n",
       "      <td>0.023533</td>\n",
       "      <td>1.387656e+06</td>\n",
       "    </tr>\n",
       "    <tr>\n",
       "      <th>1</th>\n",
       "      <td>12m</td>\n",
       "      <td>(2, 0, 2)</td>\n",
       "      <td>-0.001124</td>\n",
       "      <td>0.141779</td>\n",
       "      <td>248.198214</td>\n",
       "      <td>0.000002</td>\n",
       "      <td>7.771179e+09</td>\n",
       "    </tr>\n",
       "  </tbody>\n",
       "</table>\n",
       "</div>"
      ],
      "text/plain": [
       "  horizon      order  mean_ret_annualized  ret_CI_wid_avg  px_end_mean  \\\n",
       "0      6m  (2, 0, 2)            -0.002249        0.141764   248.198215   \n",
       "1     12m  (2, 0, 2)            -0.001124        0.141779   248.198214   \n",
       "\n",
       "   px_end_lo     px_end_hi  \n",
       "0   0.023533  1.387656e+06  \n",
       "1   0.000002  7.771179e+09  "
      ]
     },
     "metadata": {},
     "output_type": "display_data"
    },
    {
     "data": {
      "text/plain": [
       "(WindowsPath('../reports/interim/tsla_forecast_6m.csv'),\n",
       " WindowsPath('../reports/interim/tsla_forecast_12m.csv'),\n",
       " WindowsPath('../reports/interim/forecast_summary.csv'))"
      ]
     },
     "execution_count": 7,
     "metadata": {},
     "output_type": "execute_result"
    }
   ],
   "source": [
    "out_dir = cfg.reports_figures_dir.parent / \"interim\"\n",
    "out_dir.mkdir(parents=True, exist_ok=True)\n",
    "\n",
    "res6_df = pd.DataFrame({\n",
    "    \"ret_mean\": res6.ret_mean, \"ret_lo\": res6.ret_lower, \"ret_hi\": res6.ret_upper,\n",
    "    \"px_mean\":  res6.px_mean,  \"px_lo\":  res6.px_lower,  \"px_hi\":  res6.px_upper\n",
    "})\n",
    "res12_df = pd.DataFrame({\n",
    "    \"ret_mean\": res12.ret_mean, \"ret_lo\": res12.ret_lower, \"ret_hi\": res12.ret_upper,\n",
    "    \"px_mean\":  res12.px_mean,  \"px_lo\":  res12.px_lower,  \"px_hi\":  res12.px_upper\n",
    "})\n",
    "\n",
    "res6_path  = out_dir / \"tsla_forecast_6m.csv\"\n",
    "res12_path = out_dir / \"tsla_forecast_12m.csv\"\n",
    "res6_df.to_csv(res6_path); res12_df.to_csv(res12_path)\n",
    "\n",
    "summary = pd.DataFrame({\n",
    "    \"horizon\": [\"6m\",\"12m\"],\n",
    "    \"order\":   [str(res6.order), str(res12.order)],\n",
    "    \"mean_ret_annualized\": [\n",
    "        res6.ret_mean.mean() * 252,\n",
    "        res12.ret_mean.mean() * 252\n",
    "    ],\n",
    "    \"ret_CI_wid_avg\": [\n",
    "        (res6.ret_upper - res6.ret_lower).mean(),\n",
    "        (res12.ret_upper - res12.ret_lower).mean()\n",
    "    ],\n",
    "    \"px_end_mean\": [res6.px_mean.iloc[-1], res12.px_mean.iloc[-1]],\n",
    "    \"px_end_lo\":   [res6.px_lower.iloc[-1], res12.px_lower.iloc[-1]],\n",
    "    \"px_end_hi\":   [res6.px_upper.iloc[-1], res12.px_upper.iloc[-1]],\n",
    "})\n",
    "display(summary)\n",
    "\n",
    "summary_path = out_dir / \"forecast_summary.csv\"\n",
    "summary.to_csv(summary_path, index=False)\n",
    "res6_path, res12_path, summary_path\n"
   ]
  },
  {
   "cell_type": "code",
   "execution_count": null,
   "id": "fb98a544-9e53-47a3-9aa0-14a6773bb0db",
   "metadata": {},
   "outputs": [],
   "source": []
  }
 ],
 "metadata": {
  "kernelspec": {
   "display_name": "Python 3 (ipykernel)",
   "language": "python",
   "name": "python3"
  },
  "language_info": {
   "codemirror_mode": {
    "name": "ipython",
    "version": 3
   },
   "file_extension": ".py",
   "mimetype": "text/x-python",
   "name": "python",
   "nbconvert_exporter": "python",
   "pygments_lexer": "ipython3",
   "version": "3.13.0"
  }
 },
 "nbformat": 4,
 "nbformat_minor": 5
}
